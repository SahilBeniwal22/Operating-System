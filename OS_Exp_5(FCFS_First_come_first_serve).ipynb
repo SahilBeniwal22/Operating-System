{
  "nbformat": 4,
  "nbformat_minor": 0,
  "metadata": {
    "colab": {
      "provenance": [],
      "authorship_tag": "ABX9TyNId3hKuyUrpawq+5RuH/Hi",
      "include_colab_link": true
    },
    "kernelspec": {
      "name": "python3",
      "display_name": "Python 3"
    },
    "language_info": {
      "name": "python"
    }
  },
  "cells": [
    {
      "cell_type": "markdown",
      "metadata": {
        "id": "view-in-github",
        "colab_type": "text"
      },
      "source": [
        "<a href=\"https://colab.research.google.com/github/SahilBeniwal22/Operating-System/blob/main/OS_Exp_5(FCFS_First_come_first_serve).ipynb\" target=\"_parent\"><img src=\"https://colab.research.google.com/assets/colab-badge.svg\" alt=\"Open In Colab\"/></a>"
      ]
    },
    {
      "cell_type": "code",
      "execution_count": 1,
      "metadata": {
        "colab": {
          "base_uri": "https://localhost:8080/"
        },
        "id": "gelNu1Y4LMzh",
        "outputId": "407717d1-d4cd-45f8-d3c1-e0d6a9ba60c1"
      },
      "outputs": [
        {
          "output_type": "stream",
          "name": "stdout",
          "text": [
            "Enter number of processes: 3\n",
            "Enter Burst Time for 1th process:12\n",
            "Enter Burst Time for 2th process:9\n",
            "Enter Burst Time for 3th process:6\n",
            "   Arrival time  Burst time  Completion  TAT  Waiting time\n",
            "0             0          12          12   12             0\n",
            "1             1           9          21   20            11\n",
            "2             2           6          27   25            19\n",
            "Enter number of processes: 2\n",
            "Enter Burst Time for 1th process:3\n",
            "Enter Burst Time for 2th process:5\n",
            "   Arrival time  Burst time  Completion  TAT  Waiting time\n",
            "0             0           3           3    3             0\n",
            "1             0           5           8    8             3\n"
          ]
        }
      ],
      "source": [
        "import pandas as pd\n",
        "n=int(input(\"Enter number of processes: \"))\n",
        "burst_time=[]\n",
        "arrival_time=[]\n",
        "tat=[]\n",
        "completion_time=[]\n",
        "time=0\n",
        "waiting_time=[]\n",
        "for i in range(n):\n",
        "  a=int(input(f\"Enter Burst Time for {i+1}th process:\"))\n",
        "  burst_time.append(a)\n",
        "  arrival_time.append(i)\n",
        "  time=time+burst_time[i]\n",
        "  completion_time.append(time)\n",
        "  t=completion_time[i]-arrival_time[i]\n",
        "  tat.append(t)\n",
        "  w=tat[i]-burst_time[i]\n",
        "  waiting_time.append(w)\n",
        "\n",
        "df=pd.DataFrame(list(zip(arrival_time, burst_time,completion_time, tat, waiting_time)),\n",
        "columns =['Arrival time', 'Burst time','Completion' , 'TAT', 'Waiting time'])\n",
        "print(df)\n",
        "\n",
        "\n",
        "# Without Arrival Time\n",
        "import pandas as pd\n",
        "n=int(input(\"Enter number of processes: \"))\n",
        "burst_time=[]\n",
        "arrival_time=[0]*n\n",
        "tat=[]\n",
        "completion_time=[]\n",
        "time=0\n",
        "waiting_time=[]\n",
        "for i in range(n):\n",
        "  a=int(input(f\"Enter Burst Time for {i+1}th process:\"))\n",
        "  burst_time.append(a)\n",
        "  time=time+burst_time[i]\n",
        "  completion_time.append(time)\n",
        "  t=completion_time[i]-arrival_time[i]\n",
        "  tat.append(t)\n",
        "  w=tat[i]-burst_time[i]\n",
        "  waiting_time.append(w)\n",
        "\n",
        "df=pd.DataFrame(list(zip(arrival_time, burst_time,completion_time, tat, waiting_time)),\n",
        "columns =['Arrival time', 'Burst time','Completion' , 'TAT', 'Waiting time'])\n",
        "print(df)\n",
        "\n",
        "\n"
      ]
    },
    {
      "cell_type": "code",
      "source": [],
      "metadata": {
        "id": "ys39PTe0LZhk"
      },
      "execution_count": null,
      "outputs": []
    }
  ]
}