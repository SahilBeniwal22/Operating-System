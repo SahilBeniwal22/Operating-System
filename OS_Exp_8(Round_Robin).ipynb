{
  "nbformat": 4,
  "nbformat_minor": 0,
  "metadata": {
    "colab": {
      "provenance": [],
      "authorship_tag": "ABX9TyP4QSfCYDyDSfY4Rpk3c65q",
      "include_colab_link": true
    },
    "kernelspec": {
      "name": "python3",
      "display_name": "Python 3"
    },
    "language_info": {
      "name": "python"
    }
  },
  "cells": [
    {
      "cell_type": "markdown",
      "metadata": {
        "id": "view-in-github",
        "colab_type": "text"
      },
      "source": [
        "<a href=\"https://colab.research.google.com/github/SahilBeniwal22/Operating-System/blob/main/OS_Exp_8(Round_Robin).ipynb\" target=\"_parent\"><img src=\"https://colab.research.google.com/assets/colab-badge.svg\" alt=\"Open In Colab\"/></a>"
      ]
    },
    {
      "cell_type": "code",
      "execution_count": null,
      "metadata": {
        "colab": {
          "base_uri": "https://localhost:8080/"
        },
        "id": "Jo4LBHi_ilrD",
        "outputId": "f8c30b85-12dd-4b68-ab62-282e4f6df109"
      },
      "outputs": [
        {
          "output_type": "stream",
          "name": "stdout",
          "text": [
            "Enter the number of processes: 3\n",
            "Enter the time quantum : 3\n",
            "Enter arrival time for P1: 0\n",
            "Enter burst time for P1: 12\n",
            "Enter arrival time for P2: 1\n",
            "Enter burst time for P2: 6\n",
            "Enter arrival time for P3: 2\n",
            "Enter burst time for P3: 9\n",
            "Average Turnaround Time: 329.0\n",
            "Average Waiting Time: 320.0\n"
          ]
        }
      ],
      "source": [
        "class Process:\n",
        "    def __init__(self, name, arrival_time, burst_time):\n",
        "        self.name = name\n",
        "        self.arrival_time = arrival_time\n",
        "        self.burst_time = burst_time\n",
        "        self.remaining_time = burst_time\n",
        "        self.waiting_time = 0  # Initialize waiting time to 0\n",
        "\n",
        "def round_robin(processes, quantum):\n",
        "    total_processes = len(processes)\n",
        "    current_time = 0\n",
        "    time_quantum = quantum\n",
        "    queue = []\n",
        "\n",
        "    while True:\n",
        "        # Add processes to the queue that have arrived and not yet completed\n",
        "        for process in processes:\n",
        "            if process.arrival_time <= current_time and process.remaining_time > 0:\n",
        "                queue.append(process)\n",
        "\n",
        "        if not queue:\n",
        "            break  # No processes left to execute\n",
        "\n",
        "        # Get the next process from the queue\n",
        "        current_process = queue.pop(0)\n",
        "\n",
        "        # Execute the process for the time quantum or its remaining time, whichever is smaller\n",
        "        if current_process.remaining_time <= time_quantum:\n",
        "            current_time += current_process.remaining_time\n",
        "            current_process.remaining_time = 0\n",
        "            # print(f\"{current_process.name} completed at time {current_time}\")\n",
        "        else:\n",
        "            current_time += time_quantum\n",
        "            current_process.remaining_time -= time_quantum\n",
        "            # print(f\"{current_process.name} executed for time quantum at time {current_time}\")\n",
        "\n",
        "        # Update waiting times for other processes in the queue\n",
        "        for process in queue:\n",
        "            process.waiting_time += time_quantum\n",
        "\n",
        "        # Add the process back to the queue if it's not completed yet\n",
        "        if current_process.remaining_time > 0:\n",
        "            queue.append(current_process)\n",
        "\n",
        "    # Calculate turnaround time and waiting time for each process\n",
        "    total_turnaround_time = 0\n",
        "    total_waiting_time = 0\n",
        "    for process in processes:\n",
        "        turnaround_time = process.waiting_time + process.burst_time\n",
        "        total_turnaround_time += turnaround_time\n",
        "        total_waiting_time += process.waiting_time\n",
        "\n",
        "    # Calculate average turnaround time and waiting time\n",
        "    average_turnaround_time = round((total_turnaround_time / total_processes),3)\n",
        "    average_waiting_time = round((total_waiting_time / total_processes),3)\n",
        "\n",
        "    print(f\"Average Turnaround Time: {average_turnaround_time}\")\n",
        "    print(f\"Average Waiting Time: {average_waiting_time}\")\n",
        "\n",
        "# Example usage with user input for waiting times and time quantum\n",
        "if __name__ == \"__main__\":\n",
        "    processes = []\n",
        "    total_processes = int(input(\"Enter the number of processes: \"))\n",
        "    time_quantum = int(input(\"Enter the time quantum : \"))\n",
        "\n",
        "    for i in range(total_processes):\n",
        "        name = f\"P{i + 1}\"\n",
        "        arrival_time = int(input(f\"Enter arrival time for {name}: \"))\n",
        "        burst_time = int(input(f\"Enter burst time for {name}: \"))\n",
        "        processes.append(Process(name, arrival_time, burst_time))\n",
        "\n",
        "    print(\"/n\")\n",
        "\n",
        "    round_robin(processes, time_quantum)"
      ]
    },
    {
      "cell_type": "code",
      "source": [
        "num= int(input(\"Enter the number of processes:\"))\n",
        "time_quantum= int(input(\"Enter the time quantum: \"))\n",
        "processes=[]\n",
        "completion_time=[0]*num\n",
        "turnaround_time=[0]*num\n",
        "waiting_time=[0]*num\n",
        "\n",
        "print(\"Enter process details (BurstTime):\")\n",
        "for i in range(num):\n",
        "    burst_time=int(input())\n",
        "    processes.append((i+1,burst_time))\n",
        "\n",
        "queue=[]\n",
        "\n",
        "current_time=0\n",
        "remaining_time=[burst_time for _, burst_time in processes]\n",
        "\n",
        "while True:\n",
        "    for i in range(num):\n",
        "        process_num , burst_time=processes[i]\n",
        "        if remaining_time[i] > 0:\n",
        "            current_time+=time_quantum\n",
        "            remaining_time[i] -= time_quantum\n",
        "        else:\n",
        "            current_time +=remaining_time[i]\n",
        "            remaining_time[i]=0\n",
        "            completion_time[i]=current_time\n",
        "            turnaround_time[i]=completion_time[i]\n",
        "            waiting_time[i]=turnaround_time[i] - burst_time\n",
        "\n",
        "    if all(remaining_time[i] == 0 for i in range(num)):\n",
        "        break\n",
        "\n",
        "print(\"\\nProcess\\tCompletion Time\\tTurnaround Time\\tWaiting Time\")\n",
        "for i in range(num):\n",
        "    print(f\"P{processes[i][0]}\\t\\t{completion_time[i]}\\t\\t{turnaround_time[i]}\\t\\t{waiting_time[i]}\")\n",
        "\n",
        "avg_turnaround_time=sum(turnaround_time) / num\n",
        "avg_waiting_time=sum(waiting_time) / num\n",
        "print(\"\\nAverage Turnaround Time:\", avg_turnaround_time)\n",
        "print(\"Average Waiting Time:\", avg_waiting_time)"
      ],
      "metadata": {
        "id": "9ydEyf3Smyps",
        "outputId": "f84a5200-6739-4f75-ee7c-b87006d3ec28",
        "colab": {
          "base_uri": "https://localhost:8080/"
        }
      },
      "execution_count": null,
      "outputs": [
        {
          "output_type": "stream",
          "name": "stdout",
          "text": [
            "Enter the number of processes:3\n",
            "Enter the time quantum: 2\n",
            "Enter process details (BurstTime):\n",
            "6\n",
            "7\n",
            "8\n",
            "\n",
            "Process\tCompletion Time\tTurnaround Time\tWaiting Time\n",
            "P1\t\t22\t\t22\t\t16\n",
            "P2\t\t21\t\t21\t\t14\n",
            "P3\t\t21\t\t21\t\t13\n",
            "\n",
            "Average Turnaround Time: 21.333333333333332\n",
            "Average Waiting Time: 14.333333333333334\n"
          ]
        }
      ]
    }
  ]
}