{
  "nbformat": 4,
  "nbformat_minor": 0,
  "metadata": {
    "colab": {
      "provenance": [],
      "authorship_tag": "ABX9TyMaVfzC76RrZYWwKWtaIIhU",
      "include_colab_link": true
    },
    "kernelspec": {
      "name": "python3",
      "display_name": "Python 3"
    },
    "language_info": {
      "name": "python"
    }
  },
  "cells": [
    {
      "cell_type": "markdown",
      "metadata": {
        "id": "view-in-github",
        "colab_type": "text"
      },
      "source": [
        "<a href=\"https://colab.research.google.com/github/SahilBeniwal22/Operating-System/blob/main/OS_Reader_Writer.ipynb\" target=\"_parent\"><img src=\"https://colab.research.google.com/assets/colab-badge.svg\" alt=\"Open In Colab\"/></a>"
      ]
    },
    {
      "cell_type": "code",
      "execution_count": null,
      "metadata": {
        "colab": {
          "base_uri": "https://localhost:8080/"
        },
        "id": "Yp5TphV5tvay",
        "outputId": "4adc5636-c0d4-4574-af57-605ddd8f6f44"
      },
      "outputs": [
        {
          "output_type": "stream",
          "name": "stdout",
          "text": [
            "Reader 0 is reading: 0\n",
            "Reader 1 is reading: 0\n",
            "Reader 2 is reading: 0\n",
            "Reader 3 is reading: 0\n",
            "Writer 0 is writing\n",
            "Writer 1 is writing\n",
            "All threads have finished.\n"
          ]
        }
      ],
      "source": [
        "import threading\n",
        "\n",
        "shared_resource = 0\n",
        "readers_count = 0\n",
        "read_lock = threading.Lock()\n",
        "write_lock = threading.Lock()\n",
        "\n",
        "def reader(reader_id):\n",
        "    global shared_resource\n",
        "    global readers_count\n",
        "\n",
        "    with read_lock:\n",
        "        readers_count += 1\n",
        "        if readers_count == 1:\n",
        "            write_lock.acquire()\n",
        "\n",
        "    print(f\"Reader {reader_id} is reading: {shared_resource}\")\n",
        "\n",
        "    with read_lock:\n",
        "        readers_count -= 1\n",
        "        if readers_count == 0:\n",
        "            write_lock.release()\n",
        "\n",
        "def writer(writer_id):\n",
        "    global shared_resource\n",
        "\n",
        "    with write_lock:\n",
        "        print(f\"Writer {writer_id} is writing\")\n",
        "        shared_resource += 1\n",
        "\n",
        "\n",
        "num_readers = 4\n",
        "num_writers = 2\n",
        "reader_threads = [threading.Thread(target=reader, args=(i,)) for i in range(num_readers)]\n",
        "writer_threads = [threading.Thread(target=writer, args=(i,)) for i in range(num_writers)]\n",
        "\n",
        "\n",
        "for thread in reader_threads + writer_threads:\n",
        "    thread.start()\n",
        "\n",
        "\n",
        "for thread in reader_threads + writer_threads:\n",
        "    thread.join()\n",
        "\n",
        "print(\"All threads have finished.\")"
      ]
    },
    {
      "cell_type": "code",
      "source": [],
      "metadata": {
        "id": "D0UjnPimt6nW"
      },
      "execution_count": null,
      "outputs": []
    }
  ]
}