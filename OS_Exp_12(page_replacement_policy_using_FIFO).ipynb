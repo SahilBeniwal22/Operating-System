{
  "nbformat": 4,
  "nbformat_minor": 0,
  "metadata": {
    "colab": {
      "provenance": [],
      "authorship_tag": "ABX9TyNCppjsLOqwZH1HnbWEpdSa",
      "include_colab_link": true
    },
    "kernelspec": {
      "name": "python3",
      "display_name": "Python 3"
    },
    "language_info": {
      "name": "python"
    }
  },
  "cells": [
    {
      "cell_type": "markdown",
      "metadata": {
        "id": "view-in-github",
        "colab_type": "text"
      },
      "source": [
        "<a href=\"https://colab.research.google.com/github/SahilBeniwal22/Operating-System/blob/main/OS_Exp_12(page_replacement_policy_using_FIFO).ipynb\" target=\"_parent\"><img src=\"https://colab.research.google.com/assets/colab-badge.svg\" alt=\"Open In Colab\"/></a>"
      ]
    },
    {
      "cell_type": "code",
      "source": [
        "pages = [5, 3, 1, 5, 0, 3, 7, 6]\n",
        "size = 4\n",
        "page_hit = 0\n",
        "page_fault = 0\n",
        "page_queue = []\n",
        "\n",
        "for page in pages:\n",
        "    if page in page_queue:\n",
        "        page_hit += 1\n",
        "        print(\"page hit\")\n",
        "        continue\n",
        "    else:\n",
        "        if len(page_queue) < size:\n",
        "            page_queue.append(page)\n",
        "            page_fault += 1\n",
        "        else:\n",
        "            page_queue.pop(0)  # Remove the oldest page\n",
        "            page_fault += 1\n",
        "            page_queue.append(page)  # Add the new page\n",
        "\n",
        "    print(page_queue)\n",
        "\n",
        "print(\"Page Queue at the end:\", page_queue)\n",
        "print(\"Page Hits:\", page_hit)\n",
        "print(\"Page Faults:\", page_fault)\n"
      ],
      "metadata": {
        "colab": {
          "base_uri": "https://localhost:8080/"
        },
        "id": "2jzIKuV9--X3",
        "outputId": "2b0a67dc-52ba-4b21-96db-a5978ce1c2b9"
      },
      "execution_count": 16,
      "outputs": [
        {
          "output_type": "stream",
          "name": "stdout",
          "text": [
            "[5]\n",
            "[5, 3]\n",
            "[5, 3, 1]\n",
            "page hit\n",
            "[5, 3, 1, 0]\n",
            "page hit\n",
            "[3, 1, 0, 7]\n",
            "[1, 0, 7, 6]\n",
            "Page Queue at the end: [1, 0, 7, 6]\n",
            "Page Hits: 2\n",
            "Page Faults: 6\n"
          ]
        }
      ]
    },
    {
      "cell_type": "code",
      "source": [],
      "metadata": {
        "id": "LLQ-VtalAGlW"
      },
      "execution_count": null,
      "outputs": []
    }
  ]
}